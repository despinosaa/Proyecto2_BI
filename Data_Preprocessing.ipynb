{
 "cells": [
  {
   "cell_type": "code",
   "execution_count": 5,
   "metadata": {},
   "outputs": [],
   "source": [
    "import pandas as pd\n",
    "import seaborn as sns\n",
    "import matplotlib.pyplot as plt"
   ]
  },
  {
   "cell_type": "code",
   "execution_count": 6,
   "metadata": {},
   "outputs": [
    {
     "name": "stderr",
     "output_type": "stream",
     "text": [
      "C:\\Users\\pablo\\AppData\\Local\\Temp\\ipykernel_65480\\3193693375.py:5: DtypeWarning: Columns (4) have mixed types. Specify dtype option on import or set low_memory=False.\n",
      "  raw_data_22 = pd.read_csv('Data/nac2022.csv', encoding='latin')\n"
     ]
    }
   ],
   "source": [
    "# Cargar datos\n",
    "raw_data_17 = pd.read_csv('Data/nac2017.csv', encoding='latin')\n",
    "raw_data_18 = pd.read_csv('Data/nac2018.csv', encoding='latin')\n",
    "raw_data_21 = pd.read_csv('Data/nac2021.csv', encoding='latin')\n",
    "raw_data_22 = pd.read_csv('Data/nac2022.csv', encoding='latin')"
   ]
  },
  {
   "cell_type": "code",
   "execution_count": 9,
   "metadata": {},
   "outputs": [],
   "source": [
    "raw_data_21 = raw_data_21.drop(columns='TIPOFORMULARIO')\n",
    "raw_data_22 = raw_data_22.drop(columns='TIPOFORMULARIO')"
   ]
  },
  {
   "cell_type": "code",
   "execution_count": 10,
   "metadata": {},
   "outputs": [],
   "source": [
    "raw_data_tot = pd.concat([raw_data_17, raw_data_18, raw_data_21, raw_data_22], ignore_index=True)"
   ]
  },
  {
   "cell_type": "code",
   "execution_count": 11,
   "metadata": {},
   "outputs": [],
   "source": [
    "raw_data_tot = raw_data_tot.drop(columns=['ATEN_PAR','T_GES_AGRU_CIE','IDPERTET','IDPERTET','CODPRES','N_HIJOSV','IDCLASADMI','ULTCURMAD','ULTCURPAD','PROFESION','EDAD_PADRE','NIV_EDUP'])"
   ]
  },
  {
   "cell_type": "code",
   "execution_count": null,
   "metadata": {},
   "outputs": [
    {
     "name": "stdout",
     "output_type": "stream",
     "text": [
      "<class 'pandas.core.frame.DataFrame'>\n",
      "RangeIndex: 2496358 entries, 0 to 2496357\n",
      "Data columns (total 27 columns):\n",
      " #   Column      Dtype  \n",
      "---  ------      -----  \n",
      " 0   COD_DPTO    int64  \n",
      " 1   COD_MUNIC   int64  \n",
      " 2   AREANAC     int64  \n",
      " 3   SIT_PARTO   int64  \n",
      " 4   OTRO_SIT    object \n",
      " 5   SEXO        int64  \n",
      " 6   PESO_NAC    int64  \n",
      " 7   TALLA_NAC   int64  \n",
      " 8   ANO         int64  \n",
      " 9   MES         int64  \n",
      " 10  T_GES       int64  \n",
      " 11  NUMCONSUL   int64  \n",
      " 12  TIPO_PARTO  int64  \n",
      " 13  MUL_PARTO   int64  \n",
      " 14  APGAR1      int64  \n",
      " 15  APGAR2      int64  \n",
      " 16  IDHEMOCLAS  int64  \n",
      " 17  IDFACTORRH  int64  \n",
      " 18  EDAD_MADRE  int64  \n",
      " 19  EST_CIVM    int64  \n",
      " 20  NIV_EDUM    int64  \n",
      " 21  CODPTORE    float64\n",
      " 22  CODMUNRE    float64\n",
      " 23  AREA_RES    float64\n",
      " 24  FECHA_NACM  object \n",
      " 25  N_EMB       int64  \n",
      " 26  SEG_SOCIAL  int64  \n",
      "dtypes: float64(3), int64(22), object(2)\n",
      "memory usage: 514.2+ MB\n"
     ]
    }
   ],
   "source": [
    "# Información de los datos\n",
    "raw_data_tot.info()"
   ]
  },
  {
   "cell_type": "code",
   "execution_count": 13,
   "metadata": {},
   "outputs": [],
   "source": [
    "raw_data_tot.to_csv('Data/nacimientos.csv', index=False, encoding='latin')"
   ]
  },
  {
   "cell_type": "markdown",
   "metadata": {},
   "source": [
    "Descripción variables numéricas:"
   ]
  },
  {
   "cell_type": "code",
   "execution_count": null,
   "metadata": {},
   "outputs": [],
   "source": [
    "# Descripción variables numéricas\n",
    "pd.set_option('display.max_columns', None) #Si hay muchas columnas\n",
    "raw_data_tot.describe()"
   ]
  },
  {
   "cell_type": "code",
   "execution_count": null,
   "metadata": {},
   "outputs": [],
   "source": [
    "# Gráficos para variables numéricas\n",
    "features_num = ['NUMCONSUL','N_EMB']\n",
    "\n",
    "plt.figure(figsize=(10, 3))\n",
    "for i, feature in enumerate(features_num):\n",
    "    plt.subplot(1, 2, i+1)  # Crear subplots en una cuadrícula de 2 filas y 4 columnas\n",
    "    sns.histplot(data=raw_data_tot, x=feature, kde=False, bins=10)\n",
    "    plt.title(f'Histograma de {feature}')\n",
    "    plt.tight_layout()\n",
    "\n",
    "plt.show()"
   ]
  },
  {
   "cell_type": "markdown",
   "metadata": {},
   "source": [
    "Descripción de variables categóricas:"
   ]
  },
  {
   "cell_type": "code",
   "execution_count": null,
   "metadata": {},
   "outputs": [],
   "source": [
    "# Descripción de Variables categóricas\n",
    "features_cat = raw_data_tot[['SIT_PARTO','OTRO_SIT','SEXO','PESO_NAC','TALLA_NAC','ANO','MES','T_GES','TIPO_PARTO','MUL_PARTO',\n",
    "                'APGAR1','APGAR2','IDHEMOCLAS','IDFACTORRH','EDAD_MADRE','EST_CIVM','NIV_EDUM','SEG_SOCIAL']]\n",
    "\n",
    "otras = ['COD_DPTO','COD_MUNIC','AREANAC','CODPTORE','CODMUNRE','AREA_RES','FECHA_NACM']\n",
    "for i, feature in enumerate(features_cat):\n",
    "    print(pd.Series(raw_data_tot[feature]).value_counts())"
   ]
  },
  {
   "cell_type": "markdown",
   "metadata": {},
   "source": [
    "Distribución de la variable objetivo:"
   ]
  },
  {
   "cell_type": "code",
   "execution_count": null,
   "metadata": {},
   "outputs": [],
   "source": [
    "# Categórica\n",
    "sns.countplot(x='APGAR1', data=raw_data_tot)\n",
    "plt.title('Distribución de la variable objetivo (APGAR1)')\n",
    "plt.show()\n",
    "\n",
    "# Categórica\n",
    "sns.countplot(x='APGAR2', data=raw_data_tot)\n",
    "plt.title('Distribución de la variable objetivo (APGAR2)')\n",
    "plt.show()"
   ]
  },
  {
   "cell_type": "markdown",
   "metadata": {},
   "source": [
    "### 2.2. Calidad de datos"
   ]
  },
  {
   "cell_type": "markdown",
   "metadata": {},
   "source": [
    "**Consistencia:** hablar de si los tipos de datos encontrados son consistentes con los del diccionario de datos. Los datos deben ser coherentes con las descripciones recibidas.\n",
    "\n",
    "**Unicidad:** Hablar de registros duplicados. Cada registro debe ser único, y la presencia de datos duplicados indica un problema de calidad. \n",
    "\n",
    "**Completitud:** Hablar de valores faltantes. Es importante que toda la información necesaria esté disponible y no haya campos obligatorios vacíos o incompletos.\n",
    "\n",
    "**Validez:** Hablar de valores atípicos. Los datos deben cumplir con las reglas del negocio o estar dentro de rangos válidos.\n",
    "Ejemplo: Si en una columna de edad se encuentran valores negativos o extremadamente altos (como 200 años), estos serían considerados valores atípicos o no válidos."
   ]
  },
  {
   "cell_type": "markdown",
   "metadata": {},
   "source": [
    "#### Registros duplicados:"
   ]
  },
  {
   "cell_type": "code",
   "execution_count": null,
   "metadata": {},
   "outputs": [],
   "source": [
    "duplicates = raw_data_tot.duplicated(keep = False).sum()\n",
    "print(f'Registros duplicados en el conjunto de datos: {duplicates}')"
   ]
  },
  {
   "cell_type": "markdown",
   "metadata": {},
   "source": [
    "#### Valores faltantes:"
   ]
  },
  {
   "cell_type": "code",
   "execution_count": null,
   "metadata": {},
   "outputs": [],
   "source": [
    "missing_values = raw_data_tot.isnull().sum()\n",
    "print(f'Valores faltantes en el conjunto de datos: missing_values')\n",
    "\n",
    "# Porcentajes \n",
    "missing_values_p = (missing_values / len(raw_data_tot)) * 100\n",
    "print(f'Porcentaje de valores faltantes en el conjunto de datos: missing_values_p')\n",
    "\n",
    "# Visualización de los valores faltantes\n",
    "sns.heatmap(raw_data_tot.isnull(), cbar=False, cmap='viridis')\n",
    "plt.title('Mapa de calor de los valores faltantes')\n",
    "plt.show()"
   ]
  },
  {
   "cell_type": "markdown",
   "metadata": {},
   "source": [
    "#### Outliers:"
   ]
  },
  {
   "cell_type": "code",
   "execution_count": null,
   "metadata": {},
   "outputs": [],
   "source": [
    "# Porcentaje de outliers\n",
    "features_outliers = []\n",
    "print('Número y porcentaje de outliers:')\n",
    "\n",
    "for column in features_num:\n",
    "    Q1 = raw_data_tot[column].quantile(0.25)\n",
    "    Q3 = raw_data_tot[column].quantile(0.75)\n",
    "    IQR = Q3 - Q1\n",
    "    lower_bound = Q1 - 1.5 * IQR\n",
    "    upper_bound = Q3 + 1.5 * IQR\n",
    "\n",
    "    outliers = raw_data_tot[(raw_data_tot[column] < lower_bound) | (raw_data_tot[column] > upper_bound)]\n",
    "    percentage = (len(outliers) / len(raw_data_tot[column])) * 100\n",
    "    \n",
    "    if percentage > 0:\n",
    "        features_outliers.append(column)\n",
    "        \n",
    "    print(f'{column}: {len(outliers)} | {percentage:.2f}%')"
   ]
  },
  {
   "cell_type": "markdown",
   "metadata": {},
   "source": [
    "## Limpieza de datos"
   ]
  },
  {
   "cell_type": "code",
   "execution_count": 18,
   "metadata": {},
   "outputs": [],
   "source": [
    "clean_data = raw_data_tot.copy()"
   ]
  },
  {
   "cell_type": "code",
   "execution_count": 19,
   "metadata": {},
   "outputs": [
    {
     "data": {
      "text/plain": [
       "Index(['COD_DPTO', 'COD_MUNIC', 'SIT_PARTO', 'SEXO', 'PESO_NAC', 'TALLA_NAC',\n",
       "       'ANO', 'T_GES', 'NUMCONSUL', 'TIPO_PARTO', 'MUL_PARTO', 'APGAR1',\n",
       "       'APGAR2', 'EDAD_MADRE', 'FECHA_NACM', 'N_EMB', 'SEG_SOCIAL'],\n",
       "      dtype='object')"
      ]
     },
     "execution_count": 19,
     "metadata": {},
     "output_type": "execute_result"
    }
   ],
   "source": [
    "clean_data=clean_data.drop_duplicates().drop(columns=['OTRO_SIT','AREANAC','MES','IDHEMOCLAS', 'IDFACTORRH',\n",
    "                                'EST_CIVM', 'NIV_EDUM','CODPTORE', 'CODMUNRE', 'AREA_RES'])\n",
    "clean_data.columns"
   ]
  },
  {
   "cell_type": "code",
   "execution_count": 23,
   "metadata": {},
   "outputs": [],
   "source": [
    "cols_99=['APGAR1', 'APGAR2', 'EDAD_MADRE', 'N_EMB', 'NUMCONSUL']\n",
    "cols_9 = ['SIT_PARTO', 'PESO_NAC', 'TALLA_NAC', 'T_GES', 'TIPO_PARTO', 'MUL_PARTO', 'SEG_SOCIAL']\n",
    "cols_3= ['SEXO']\n",
    "cols_4=['TIPO_PARTO']\n",
    "cols_6 = ['T_GES']\n",
    "\n",
    "for col99 in cols_99:\n",
    "    clean_data = clean_data[clean_data[col99] != 99]\n",
    "\n",
    "for col9 in cols_9:\n",
    "    clean_data= clean_data[clean_data[col9] != 9]\n",
    "\n",
    "for col3 in cols_3:\n",
    "    clean_data= clean_data[clean_data[col3] != 3]\n",
    "\n",
    "for col4 in cols_4:\n",
    "    clean_data= clean_data[clean_data[col4] != 4]\n",
    "\n",
    "for col6 in cols_6:\n",
    "    clean_data= clean_data[clean_data[col6] != 6]"
   ]
  },
  {
   "cell_type": "code",
   "execution_count": null,
   "metadata": {},
   "outputs": [],
   "source": [
    "#datos=clean_data.dropna()"
   ]
  },
  {
   "cell_type": "code",
   "execution_count": 25,
   "metadata": {},
   "outputs": [
    {
     "data": {
      "text/plain": [
       "(2441519, 17)"
      ]
     },
     "execution_count": 25,
     "metadata": {},
     "output_type": "execute_result"
    }
   ],
   "source": [
    "clean_data.shape"
   ]
  },
  {
   "cell_type": "code",
   "execution_count": 26,
   "metadata": {},
   "outputs": [],
   "source": [
    "clean_data.to_csv('Data/nacimientos_clean.csv', index=False, encoding='latin')"
   ]
  },
  {
   "cell_type": "markdown",
   "metadata": {},
   "source": [
    "### Datos mapa"
   ]
  },
  {
   "cell_type": "code",
   "execution_count": 27,
   "metadata": {},
   "outputs": [],
   "source": [
    "import pandas as pd\n",
    "\n",
    "clean_data = pd.read_csv('Data/nacimientos_clean.csv', sep=',', encoding='latin')"
   ]
  },
  {
   "cell_type": "code",
   "execution_count": 28,
   "metadata": {},
   "outputs": [
    {
     "data": {
      "text/plain": [
       "(1122, 4)"
      ]
     },
     "execution_count": 28,
     "metadata": {},
     "output_type": "execute_result"
    }
   ],
   "source": [
    "# Cargar el archivo CSV cods con los tipos de datos correctos para las columnas\n",
    "columnas_str = ['COD_Departamento', 'COD_Municipio']\n",
    "df_codigos = pd.read_csv('Data/cods_dpto_munic.csv', sep=',', encoding='latin', dtype={col: str for col in columnas_str})\n",
    "df_codigos.shape"
   ]
  },
  {
   "cell_type": "code",
   "execution_count": 29,
   "metadata": {},
   "outputs": [],
   "source": [
    "# Asegurarse de que datos tenga las columnas COD_DPTO y COD_MUNIC con ceros a la izquierda\n",
    "clean_data['COD_DPTO'] = clean_data['COD_DPTO'].astype(str).str.zfill(2)\n",
    "clean_data['COD_MUNIC'] = clean_data['COD_MUNIC'].astype(str).str.zfill(3)\n",
    "\n",
    "# Crear una columna concatenada en datos\n",
    "clean_data['COD_COMBINADO'] = clean_data['COD_DPTO'] + clean_data['COD_MUNIC']"
   ]
  },
  {
   "cell_type": "code",
   "execution_count": 30,
   "metadata": {},
   "outputs": [
    {
     "data": {
      "text/plain": [
       "(2441519, 18)"
      ]
     },
     "execution_count": 30,
     "metadata": {},
     "output_type": "execute_result"
    }
   ],
   "source": [
    "# Realizar el merge usando las columnas concatenadas\n",
    "df_resultado = pd.merge(clean_data, df_codigos, left_on='COD_COMBINADO', right_on='COD_Municipio', how='left')\n",
    "\n",
    "# Seleccionar las columnas de interés\n",
    "df_resultado = df_resultado.drop(columns=['COD_Departamento', 'COD_Municipio','COD_DPTO','COD_MUNIC'])\n",
    "\n",
    "# Guardar el resultado si es necesario\n",
    "df_resultado.to_csv('Data/nacimientos_full.csv', index=False, encoding='latin')\n",
    "\n",
    "# Ver el resultado\n",
    "df_resultado.shape"
   ]
  }
 ],
 "metadata": {
  "kernelspec": {
   "display_name": "base",
   "language": "python",
   "name": "python3"
  },
  "language_info": {
   "codemirror_mode": {
    "name": "ipython",
    "version": 3
   },
   "file_extension": ".py",
   "mimetype": "text/x-python",
   "name": "python",
   "nbconvert_exporter": "python",
   "pygments_lexer": "ipython3",
   "version": "3.11.4"
  }
 },
 "nbformat": 4,
 "nbformat_minor": 2
}
