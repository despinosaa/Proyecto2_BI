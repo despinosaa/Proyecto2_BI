{
 "cells": [
  {
   "cell_type": "code",
   "execution_count": 1,
   "metadata": {},
   "outputs": [],
   "source": [
    "import pandas as pd\n",
    "import seaborn as sns\n",
    "import matplotlib.pyplot as plt"
   ]
  },
  {
   "cell_type": "code",
   "execution_count": 2,
   "metadata": {},
   "outputs": [
    {
     "name": "stderr",
     "output_type": "stream",
     "text": [
      "C:\\Users\\danie\\AppData\\Local\\Temp\\ipykernel_3788\\3193693375.py:5: DtypeWarning: Columns (4) have mixed types. Specify dtype option on import or set low_memory=False.\n",
      "  raw_data_22 = pd.read_csv('Data/nac2022.csv', encoding='latin')\n"
     ]
    }
   ],
   "source": [
    "# Cargar datos\n",
    "raw_data_17 = pd.read_csv('Data/nac2017.csv', encoding='latin')\n",
    "raw_data_18 = pd.read_csv('Data/nac2018.csv', encoding='latin')\n",
    "raw_data_21 = pd.read_csv('Data/nac2021.csv', encoding='latin')\n",
    "raw_data_22 = pd.read_csv('Data/nac2022.csv', encoding='latin')"
   ]
  },
  {
   "cell_type": "code",
   "execution_count": 3,
   "metadata": {},
   "outputs": [],
   "source": [
    "raw_data_21 = raw_data_21.drop(columns=\"TIPOFORMULARIO\")\n",
    "raw_data_22 = raw_data_22.drop(columns=\"TIPOFORMULARIO\")"
   ]
  },
  {
   "cell_type": "code",
   "execution_count": 4,
   "metadata": {},
   "outputs": [],
   "source": [
    "raw_data_tot = pd.concat([raw_data_17, raw_data_18, raw_data_21, raw_data_22], ignore_index=True)"
   ]
  },
  {
   "cell_type": "code",
   "execution_count": 5,
   "metadata": {},
   "outputs": [],
   "source": [
    "raw_data_tot = raw_data_tot.drop(columns=['ATEN_PAR','T_GES_AGRU_CIE','IDPERTET','IDPERTET','CODPRES','N_HIJOSV','IDCLASADMI','ULTCURMAD','ULTCURPAD','PROFESION','EDAD_PADRE','NIV_EDUP'])"
   ]
  },
  {
   "cell_type": "code",
   "execution_count": 6,
   "metadata": {},
   "outputs": [
    {
     "name": "stdout",
     "output_type": "stream",
     "text": [
      "<class 'pandas.core.frame.DataFrame'>\n",
      "RangeIndex: 2496358 entries, 0 to 2496357\n",
      "Data columns (total 27 columns):\n",
      " #   Column      Dtype  \n",
      "---  ------      -----  \n",
      " 0   COD_DPTO    int64  \n",
      " 1   COD_MUNIC   int64  \n",
      " 2   AREANAC     int64  \n",
      " 3   SIT_PARTO   int64  \n",
      " 4   OTRO_SIT    object \n",
      " 5   SEXO        int64  \n",
      " 6   PESO_NAC    int64  \n",
      " 7   TALLA_NAC   int64  \n",
      " 8   ANO         int64  \n",
      " 9   MES         int64  \n",
      " 10  T_GES       int64  \n",
      " 11  NUMCONSUL   int64  \n",
      " 12  TIPO_PARTO  int64  \n",
      " 13  MUL_PARTO   int64  \n",
      " 14  APGAR1      int64  \n",
      " 15  APGAR2      int64  \n",
      " 16  IDHEMOCLAS  int64  \n",
      " 17  IDFACTORRH  int64  \n",
      " 18  EDAD_MADRE  int64  \n",
      " 19  EST_CIVM    int64  \n",
      " 20  NIV_EDUM    int64  \n",
      " 21  CODPTORE    float64\n",
      " 22  CODMUNRE    float64\n",
      " 23  AREA_RES    float64\n",
      " 24  FECHA_NACM  object \n",
      " 25  N_EMB       int64  \n",
      " 26  SEG_SOCIAL  int64  \n",
      "dtypes: float64(3), int64(22), object(2)\n",
      "memory usage: 514.2+ MB\n"
     ]
    }
   ],
   "source": [
    "# Información de los datos\n",
    "raw_data_tot.info()"
   ]
  },
  {
   "cell_type": "code",
   "execution_count": 7,
   "metadata": {},
   "outputs": [],
   "source": [
    "raw_data_tot.to_csv('Data/nacimientos.csv', index=False, encoding='latin')"
   ]
  },
  {
   "cell_type": "markdown",
   "metadata": {},
   "source": [
    "Descripción variables numéricas:"
   ]
  },
  {
   "cell_type": "code",
   "execution_count": 8,
   "metadata": {},
   "outputs": [
    {
     "data": {
      "text/html": [
       "<div>\n",
       "<style scoped>\n",
       "    .dataframe tbody tr th:only-of-type {\n",
       "        vertical-align: middle;\n",
       "    }\n",
       "\n",
       "    .dataframe tbody tr th {\n",
       "        vertical-align: top;\n",
       "    }\n",
       "\n",
       "    .dataframe thead th {\n",
       "        text-align: right;\n",
       "    }\n",
       "</style>\n",
       "<table border=\"1\" class=\"dataframe\">\n",
       "  <thead>\n",
       "    <tr style=\"text-align: right;\">\n",
       "      <th></th>\n",
       "      <th>COD_DPTO</th>\n",
       "      <th>COD_MUNIC</th>\n",
       "      <th>AREANAC</th>\n",
       "      <th>SIT_PARTO</th>\n",
       "      <th>SEXO</th>\n",
       "      <th>PESO_NAC</th>\n",
       "      <th>TALLA_NAC</th>\n",
       "      <th>ANO</th>\n",
       "      <th>MES</th>\n",
       "      <th>T_GES</th>\n",
       "      <th>NUMCONSUL</th>\n",
       "      <th>TIPO_PARTO</th>\n",
       "      <th>MUL_PARTO</th>\n",
       "      <th>APGAR1</th>\n",
       "      <th>APGAR2</th>\n",
       "      <th>IDHEMOCLAS</th>\n",
       "      <th>IDFACTORRH</th>\n",
       "      <th>EDAD_MADRE</th>\n",
       "      <th>EST_CIVM</th>\n",
       "      <th>NIV_EDUM</th>\n",
       "      <th>CODPTORE</th>\n",
       "      <th>CODMUNRE</th>\n",
       "      <th>AREA_RES</th>\n",
       "      <th>N_EMB</th>\n",
       "      <th>SEG_SOCIAL</th>\n",
       "    </tr>\n",
       "  </thead>\n",
       "  <tbody>\n",
       "    <tr>\n",
       "      <th>count</th>\n",
       "      <td>2.496358e+06</td>\n",
       "      <td>2.496358e+06</td>\n",
       "      <td>2.496358e+06</td>\n",
       "      <td>2.496358e+06</td>\n",
       "      <td>2.496358e+06</td>\n",
       "      <td>2.496358e+06</td>\n",
       "      <td>2.496358e+06</td>\n",
       "      <td>2.496358e+06</td>\n",
       "      <td>2.496358e+06</td>\n",
       "      <td>2.496358e+06</td>\n",
       "      <td>2.496358e+06</td>\n",
       "      <td>2.496358e+06</td>\n",
       "      <td>2.496358e+06</td>\n",
       "      <td>2.496358e+06</td>\n",
       "      <td>2.496358e+06</td>\n",
       "      <td>2.496358e+06</td>\n",
       "      <td>2.496358e+06</td>\n",
       "      <td>2.496358e+06</td>\n",
       "      <td>2.496358e+06</td>\n",
       "      <td>2.496358e+06</td>\n",
       "      <td>2.475772e+06</td>\n",
       "      <td>2.475771e+06</td>\n",
       "      <td>2.475949e+06</td>\n",
       "      <td>2.496358e+06</td>\n",
       "      <td>2.496358e+06</td>\n",
       "    </tr>\n",
       "    <tr>\n",
       "      <th>mean</th>\n",
       "      <td>3.395904e+01</td>\n",
       "      <td>1.599742e+02</td>\n",
       "      <td>1.037415e+00</td>\n",
       "      <td>1.026987e+00</td>\n",
       "      <td>1.488008e+00</td>\n",
       "      <td>5.729728e+00</td>\n",
       "      <td>4.597328e+00</td>\n",
       "      <td>2.019397e+03</td>\n",
       "      <td>6.604715e+00</td>\n",
       "      <td>3.792609e+00</td>\n",
       "      <td>6.525644e+00</td>\n",
       "      <td>1.486525e+00</td>\n",
       "      <td>1.025941e+00</td>\n",
       "      <td>9.838965e+00</td>\n",
       "      <td>1.097188e+01</td>\n",
       "      <td>2.553286e+00</td>\n",
       "      <td>1.201564e+00</td>\n",
       "      <td>3.795618e+00</td>\n",
       "      <td>2.584548e+00</td>\n",
       "      <td>8.127882e+00</td>\n",
       "      <td>3.390409e+01</td>\n",
       "      <td>2.475646e+02</td>\n",
       "      <td>1.390003e+00</td>\n",
       "      <td>2.184084e+00</td>\n",
       "      <td>1.846691e+00</td>\n",
       "    </tr>\n",
       "    <tr>\n",
       "      <th>std</th>\n",
       "      <td>2.658002e+01</td>\n",
       "      <td>2.588075e+02</td>\n",
       "      <td>3.293695e-01</td>\n",
       "      <td>2.797828e-01</td>\n",
       "      <td>5.000670e-01</td>\n",
       "      <td>1.095625e+00</td>\n",
       "      <td>6.580011e-01</td>\n",
       "      <td>2.052044e+00</td>\n",
       "      <td>3.432526e+00</td>\n",
       "      <td>4.811532e-01</td>\n",
       "      <td>6.545008e+00</td>\n",
       "      <td>5.704861e-01</td>\n",
       "      <td>2.862045e-01</td>\n",
       "      <td>1.191445e+01</td>\n",
       "      <td>1.174758e+01</td>\n",
       "      <td>1.261855e+00</td>\n",
       "      <td>1.122199e+00</td>\n",
       "      <td>2.494139e+00</td>\n",
       "      <td>2.181694e+00</td>\n",
       "      <td>1.771993e+01</td>\n",
       "      <td>2.631432e+01</td>\n",
       "      <td>2.965173e+02</td>\n",
       "      <td>7.471153e-01</td>\n",
       "      <td>3.322142e+00</td>\n",
       "      <td>9.989299e-01</td>\n",
       "    </tr>\n",
       "    <tr>\n",
       "      <th>min</th>\n",
       "      <td>5.000000e+00</td>\n",
       "      <td>1.000000e+00</td>\n",
       "      <td>1.000000e+00</td>\n",
       "      <td>1.000000e+00</td>\n",
       "      <td>1.000000e+00</td>\n",
       "      <td>1.000000e+00</td>\n",
       "      <td>1.000000e+00</td>\n",
       "      <td>2.017000e+03</td>\n",
       "      <td>1.000000e+00</td>\n",
       "      <td>1.000000e+00</td>\n",
       "      <td>0.000000e+00</td>\n",
       "      <td>1.000000e+00</td>\n",
       "      <td>1.000000e+00</td>\n",
       "      <td>1.000000e+00</td>\n",
       "      <td>1.000000e+00</td>\n",
       "      <td>1.000000e+00</td>\n",
       "      <td>1.000000e+00</td>\n",
       "      <td>1.000000e+00</td>\n",
       "      <td>1.000000e+00</td>\n",
       "      <td>1.000000e+00</td>\n",
       "      <td>5.000000e+00</td>\n",
       "      <td>1.000000e+00</td>\n",
       "      <td>1.000000e+00</td>\n",
       "      <td>1.000000e+00</td>\n",
       "      <td>1.000000e+00</td>\n",
       "    </tr>\n",
       "    <tr>\n",
       "      <th>25%</th>\n",
       "      <td>1.100000e+01</td>\n",
       "      <td>1.000000e+00</td>\n",
       "      <td>1.000000e+00</td>\n",
       "      <td>1.000000e+00</td>\n",
       "      <td>1.000000e+00</td>\n",
       "      <td>5.000000e+00</td>\n",
       "      <td>4.000000e+00</td>\n",
       "      <td>2.017000e+03</td>\n",
       "      <td>4.000000e+00</td>\n",
       "      <td>4.000000e+00</td>\n",
       "      <td>5.000000e+00</td>\n",
       "      <td>1.000000e+00</td>\n",
       "      <td>1.000000e+00</td>\n",
       "      <td>8.000000e+00</td>\n",
       "      <td>9.000000e+00</td>\n",
       "      <td>2.000000e+00</td>\n",
       "      <td>1.000000e+00</td>\n",
       "      <td>3.000000e+00</td>\n",
       "      <td>1.000000e+00</td>\n",
       "      <td>3.000000e+00</td>\n",
       "      <td>1.100000e+01</td>\n",
       "      <td>1.000000e+00</td>\n",
       "      <td>1.000000e+00</td>\n",
       "      <td>1.000000e+00</td>\n",
       "      <td>1.000000e+00</td>\n",
       "    </tr>\n",
       "    <tr>\n",
       "      <th>50%</th>\n",
       "      <td>2.300000e+01</td>\n",
       "      <td>1.000000e+00</td>\n",
       "      <td>1.000000e+00</td>\n",
       "      <td>1.000000e+00</td>\n",
       "      <td>1.000000e+00</td>\n",
       "      <td>6.000000e+00</td>\n",
       "      <td>5.000000e+00</td>\n",
       "      <td>2.018000e+03</td>\n",
       "      <td>7.000000e+00</td>\n",
       "      <td>4.000000e+00</td>\n",
       "      <td>6.000000e+00</td>\n",
       "      <td>1.000000e+00</td>\n",
       "      <td>1.000000e+00</td>\n",
       "      <td>8.000000e+00</td>\n",
       "      <td>1.000000e+01</td>\n",
       "      <td>3.000000e+00</td>\n",
       "      <td>1.000000e+00</td>\n",
       "      <td>4.000000e+00</td>\n",
       "      <td>1.000000e+00</td>\n",
       "      <td>4.000000e+00</td>\n",
       "      <td>2.300000e+01</td>\n",
       "      <td>8.100000e+01</td>\n",
       "      <td>1.000000e+00</td>\n",
       "      <td>2.000000e+00</td>\n",
       "      <td>2.000000e+00</td>\n",
       "    </tr>\n",
       "    <tr>\n",
       "      <th>75%</th>\n",
       "      <td>5.400000e+01</td>\n",
       "      <td>2.690000e+02</td>\n",
       "      <td>1.000000e+00</td>\n",
       "      <td>1.000000e+00</td>\n",
       "      <td>2.000000e+00</td>\n",
       "      <td>6.000000e+00</td>\n",
       "      <td>5.000000e+00</td>\n",
       "      <td>2.021000e+03</td>\n",
       "      <td>1.000000e+01</td>\n",
       "      <td>4.000000e+00</td>\n",
       "      <td>8.000000e+00</td>\n",
       "      <td>2.000000e+00</td>\n",
       "      <td>1.000000e+00</td>\n",
       "      <td>9.000000e+00</td>\n",
       "      <td>1.000000e+01</td>\n",
       "      <td>3.000000e+00</td>\n",
       "      <td>1.000000e+00</td>\n",
       "      <td>5.000000e+00</td>\n",
       "      <td>5.000000e+00</td>\n",
       "      <td>7.000000e+00</td>\n",
       "      <td>5.400000e+01</td>\n",
       "      <td>4.830000e+02</td>\n",
       "      <td>1.000000e+00</td>\n",
       "      <td>3.000000e+00</td>\n",
       "      <td>2.000000e+00</td>\n",
       "    </tr>\n",
       "    <tr>\n",
       "      <th>max</th>\n",
       "      <td>9.900000e+01</td>\n",
       "      <td>9.800000e+02</td>\n",
       "      <td>9.000000e+00</td>\n",
       "      <td>9.000000e+00</td>\n",
       "      <td>3.000000e+00</td>\n",
       "      <td>9.000000e+00</td>\n",
       "      <td>9.000000e+00</td>\n",
       "      <td>2.022000e+03</td>\n",
       "      <td>1.200000e+01</td>\n",
       "      <td>9.000000e+00</td>\n",
       "      <td>9.900000e+01</td>\n",
       "      <td>9.000000e+00</td>\n",
       "      <td>9.000000e+00</td>\n",
       "      <td>9.900000e+01</td>\n",
       "      <td>9.900000e+01</td>\n",
       "      <td>9.000000e+00</td>\n",
       "      <td>9.000000e+00</td>\n",
       "      <td>9.900000e+01</td>\n",
       "      <td>9.000000e+00</td>\n",
       "      <td>9.900000e+01</td>\n",
       "      <td>9.900000e+01</td>\n",
       "      <td>9.800000e+02</td>\n",
       "      <td>9.000000e+00</td>\n",
       "      <td>9.900000e+01</td>\n",
       "      <td>9.000000e+00</td>\n",
       "    </tr>\n",
       "  </tbody>\n",
       "</table>\n",
       "</div>"
      ],
      "text/plain": [
       "           COD_DPTO     COD_MUNIC       AREANAC     SIT_PARTO          SEXO  \\\n",
       "count  2.496358e+06  2.496358e+06  2.496358e+06  2.496358e+06  2.496358e+06   \n",
       "mean   3.395904e+01  1.599742e+02  1.037415e+00  1.026987e+00  1.488008e+00   \n",
       "std    2.658002e+01  2.588075e+02  3.293695e-01  2.797828e-01  5.000670e-01   \n",
       "min    5.000000e+00  1.000000e+00  1.000000e+00  1.000000e+00  1.000000e+00   \n",
       "25%    1.100000e+01  1.000000e+00  1.000000e+00  1.000000e+00  1.000000e+00   \n",
       "50%    2.300000e+01  1.000000e+00  1.000000e+00  1.000000e+00  1.000000e+00   \n",
       "75%    5.400000e+01  2.690000e+02  1.000000e+00  1.000000e+00  2.000000e+00   \n",
       "max    9.900000e+01  9.800000e+02  9.000000e+00  9.000000e+00  3.000000e+00   \n",
       "\n",
       "           PESO_NAC     TALLA_NAC           ANO           MES         T_GES  \\\n",
       "count  2.496358e+06  2.496358e+06  2.496358e+06  2.496358e+06  2.496358e+06   \n",
       "mean   5.729728e+00  4.597328e+00  2.019397e+03  6.604715e+00  3.792609e+00   \n",
       "std    1.095625e+00  6.580011e-01  2.052044e+00  3.432526e+00  4.811532e-01   \n",
       "min    1.000000e+00  1.000000e+00  2.017000e+03  1.000000e+00  1.000000e+00   \n",
       "25%    5.000000e+00  4.000000e+00  2.017000e+03  4.000000e+00  4.000000e+00   \n",
       "50%    6.000000e+00  5.000000e+00  2.018000e+03  7.000000e+00  4.000000e+00   \n",
       "75%    6.000000e+00  5.000000e+00  2.021000e+03  1.000000e+01  4.000000e+00   \n",
       "max    9.000000e+00  9.000000e+00  2.022000e+03  1.200000e+01  9.000000e+00   \n",
       "\n",
       "          NUMCONSUL    TIPO_PARTO     MUL_PARTO        APGAR1        APGAR2  \\\n",
       "count  2.496358e+06  2.496358e+06  2.496358e+06  2.496358e+06  2.496358e+06   \n",
       "mean   6.525644e+00  1.486525e+00  1.025941e+00  9.838965e+00  1.097188e+01   \n",
       "std    6.545008e+00  5.704861e-01  2.862045e-01  1.191445e+01  1.174758e+01   \n",
       "min    0.000000e+00  1.000000e+00  1.000000e+00  1.000000e+00  1.000000e+00   \n",
       "25%    5.000000e+00  1.000000e+00  1.000000e+00  8.000000e+00  9.000000e+00   \n",
       "50%    6.000000e+00  1.000000e+00  1.000000e+00  8.000000e+00  1.000000e+01   \n",
       "75%    8.000000e+00  2.000000e+00  1.000000e+00  9.000000e+00  1.000000e+01   \n",
       "max    9.900000e+01  9.000000e+00  9.000000e+00  9.900000e+01  9.900000e+01   \n",
       "\n",
       "         IDHEMOCLAS    IDFACTORRH    EDAD_MADRE      EST_CIVM      NIV_EDUM  \\\n",
       "count  2.496358e+06  2.496358e+06  2.496358e+06  2.496358e+06  2.496358e+06   \n",
       "mean   2.553286e+00  1.201564e+00  3.795618e+00  2.584548e+00  8.127882e+00   \n",
       "std    1.261855e+00  1.122199e+00  2.494139e+00  2.181694e+00  1.771993e+01   \n",
       "min    1.000000e+00  1.000000e+00  1.000000e+00  1.000000e+00  1.000000e+00   \n",
       "25%    2.000000e+00  1.000000e+00  3.000000e+00  1.000000e+00  3.000000e+00   \n",
       "50%    3.000000e+00  1.000000e+00  4.000000e+00  1.000000e+00  4.000000e+00   \n",
       "75%    3.000000e+00  1.000000e+00  5.000000e+00  5.000000e+00  7.000000e+00   \n",
       "max    9.000000e+00  9.000000e+00  9.900000e+01  9.000000e+00  9.900000e+01   \n",
       "\n",
       "           CODPTORE      CODMUNRE      AREA_RES         N_EMB    SEG_SOCIAL  \n",
       "count  2.475772e+06  2.475771e+06  2.475949e+06  2.496358e+06  2.496358e+06  \n",
       "mean   3.390409e+01  2.475646e+02  1.390003e+00  2.184084e+00  1.846691e+00  \n",
       "std    2.631432e+01  2.965173e+02  7.471153e-01  3.322142e+00  9.989299e-01  \n",
       "min    5.000000e+00  1.000000e+00  1.000000e+00  1.000000e+00  1.000000e+00  \n",
       "25%    1.100000e+01  1.000000e+00  1.000000e+00  1.000000e+00  1.000000e+00  \n",
       "50%    2.300000e+01  8.100000e+01  1.000000e+00  2.000000e+00  2.000000e+00  \n",
       "75%    5.400000e+01  4.830000e+02  1.000000e+00  3.000000e+00  2.000000e+00  \n",
       "max    9.900000e+01  9.800000e+02  9.000000e+00  9.900000e+01  9.000000e+00  "
      ]
     },
     "execution_count": 8,
     "metadata": {},
     "output_type": "execute_result"
    }
   ],
   "source": [
    "# Descripción variables numéricas\n",
    "pd.set_option('display.max_columns', None) #Si hay muchas columnas\n",
    "raw_data_tot.describe()"
   ]
  },
  {
   "cell_type": "code",
   "execution_count": 9,
   "metadata": {},
   "outputs": [
    {
     "data": {
      "image/png": "[encoded data removed]",
      "text/plain": [
       "<Figure size 1000x300 with 2 Axes>"
      ]
     },
     "metadata": {},
     "output_type": "display_data"
    }
   ],
   "source": [
    "# Gráficos para variables numéricas\n",
    "features_num = ['NUMCONSUL','N_EMB']\n",
    "\n",
    "plt.figure(figsize=(10, 3))\n",
    "for i, feature in enumerate(features_num):\n",
    "    plt.subplot(1, 2, i+1)  # Crear subplots en una cuadrícula de 2 filas y 4 columnas\n",
    "    sns.histplot(data=raw_data_tot, x=feature, kde=False, bins=10)\n",
    "    plt.title(f'Histograma de {feature}')\n",
    "    plt.tight_layout()\n",
    "\n",
    "plt.show()"
   ]
  },
  {
   "cell_type": "markdown",
   "metadata": {},
   "source": [
    "Descripción de variables categóricas:"
   ]
  },
  {
   "cell_type": "code",
   "execution_count": 10,
   "metadata": {},
   "outputs": [
    {
     "name": "stdout",
     "output_type": "stream",
     "text": [
      "SIT_PARTO\n",
      "1    2449252\n",
      "2      39605\n",
      "3       5374\n",
      "9       2127\n",
      "Name: count, dtype: int64\n",
      "OTRO_SIT\n",
      "AMBULANCIA            893\n",
      "CASA                  520\n",
      "SIN INFORMACION       260\n",
      "SIN INFORMACIÓN       255\n",
      "TAXI                  213\n",
      "                     ... \n",
      "en taxi                 1\n",
      "En la ambulancia        1\n",
      "HUEM                    1\n",
      "Casa de partera         1\n",
      "casa grande aluucx      1\n",
      "Name: count, Length: 1595, dtype: int64\n",
      "SEXO\n",
      "1    1278378\n",
      "2    1217717\n",
      "3        263\n",
      "Name: count, dtype: int64\n",
      "PESO_NAC\n",
      "6    1052146\n",
      "5     698415\n",
      "7     422725\n",
      "4     165329\n",
      "8      63811\n",
      "3      43954\n",
      "9      20862\n",
      "2      18887\n",
      "1      10229\n",
      "Name: count, dtype: int64\n",
      "TALLA_NAC\n",
      "5    1412358\n",
      "4    1036444\n",
      "3      24393\n",
      "9      21050\n",
      "2       1553\n",
      "6        543\n",
      "1         17\n",
      "Name: count, dtype: int64\n",
      "ANO\n",
      "2017    656704\n",
      "2018    649115\n",
      "2021    616914\n",
      "2022    573625\n",
      "Name: count, dtype: int64\n",
      "MES\n",
      "9     222329\n",
      "8     216033\n",
      "10    214766\n",
      "12    213063\n",
      "7     210998\n",
      "11    209750\n",
      "5     209337\n",
      "3     208830\n",
      "6     203356\n",
      "1     202844\n",
      "4     201798\n",
      "2     183254\n",
      "Name: count, dtype: int64\n",
      "T_GES\n",
      "4    1916982\n",
      "3     545440\n",
      "6      19314\n",
      "2       9359\n",
      "5       4337\n",
      "9        781\n",
      "1        145\n",
      "Name: count, dtype: int64\n",
      "TIPO_PARTO\n",
      "1    1325943\n",
      "2    1140960\n",
      "3      26654\n",
      "9       2374\n",
      "4        427\n",
      "Name: count, dtype: int64\n",
      "MUL_PARTO\n",
      "1    2450050\n",
      "2      42881\n",
      "9       2482\n",
      "3        814\n",
      "4        131\n",
      "Name: count, dtype: int64\n",
      "APGAR1\n",
      "8     1263400\n",
      "9      822203\n",
      "7      167224\n",
      "10     116662\n",
      "99      43521\n",
      "6       38911\n",
      "5       20829\n",
      "4       10267\n",
      "3        6750\n",
      "1        3327\n",
      "2        3264\n",
      "Name: count, dtype: int64\n",
      "APGAR2\n",
      "10    1258873\n",
      "9     1033847\n",
      "8      115067\n",
      "99      43497\n",
      "7       24839\n",
      "6        8768\n",
      "5        5587\n",
      "4        1998\n",
      "1        1817\n",
      "3        1283\n",
      "2         782\n",
      "Name: count, dtype: int64\n",
      "IDHEMOCLAS\n",
      "3    1569514\n",
      "1     613588\n",
      "2     222436\n",
      "9      48727\n",
      "4      42093\n",
      "Name: count, dtype: int64\n",
      "IDFACTORRH\n",
      "1    2335931\n",
      "2     111463\n",
      "9      48964\n",
      "Name: count, dtype: int64\n",
      "EDAD_MADRE\n",
      "3     708958\n",
      "4     611767\n",
      "2     453575\n",
      "5     416360\n",
      "6     222495\n",
      "7      56914\n",
      "1      20446\n",
      "8       4052\n",
      "99      1222\n",
      "9        569\n",
      "Name: count, dtype: int64\n",
      "EST_CIVM\n",
      "1    1299861\n",
      "2     470247\n",
      "6     335057\n",
      "5     315791\n",
      "9      65618\n",
      "3       7394\n",
      "4       2390\n",
      "Name: count, dtype: int64\n",
      "NIV_EDUM\n",
      "4     839691\n",
      "3     553040\n",
      "2     296439\n",
      "9     266656\n",
      "7     203819\n",
      "8     109373\n",
      "99     89803\n",
      "5      62770\n",
      "13     29029\n",
      "10     27260\n",
      "11      8675\n",
      "1       6714\n",
      "6       2635\n",
      "12       454\n",
      "Name: count, dtype: int64\n",
      "SEG_SOCIAL\n",
      "2    1351872\n",
      "1     932179\n",
      "5     161047\n",
      "3      48137\n",
      "9       2388\n",
      "4        735\n",
      "Name: count, dtype: int64\n"
     ]
    }
   ],
   "source": [
    "# Descripción de Variables categóricas\n",
    "features_cat = raw_data_tot[['SIT_PARTO','OTRO_SIT','SEXO','PESO_NAC','TALLA_NAC','ANO','MES','T_GES','TIPO_PARTO','MUL_PARTO',\n",
    "                'APGAR1','APGAR2','IDHEMOCLAS','IDFACTORRH','EDAD_MADRE','EST_CIVM','NIV_EDUM','SEG_SOCIAL']]\n",
    "\n",
    "otras = ['COD_DPTO','COD_MUNIC','AREANAC','CODPTORE','CODMUNRE','AREA_RES','FECHA_NACM']\n",
    "for i, feature in enumerate(features_cat):\n",
    "    print(pd.Series(raw_data_tot[feature]).value_counts())"
   ]
  },
  {
   "cell_type": "markdown",
   "metadata": {},
   "source": [
    "Distribución de la variable objetivo:"
   ]
  },
  {
   "cell_type": "code",
   "execution_count": 11,
   "metadata": {},
   "outputs": [
    {
     "data": {
      "image/png": "[encoded data removed]",
      "text/plain": [
       "<Figure size 640x480 with 1 Axes>"
      ]
     },
     "metadata": {},
     "output_type": "display_data"
    },
    {
     "data": {
      "image/png": "[encoded data removed]",
      "text/plain": [
       "<Figure size 640x480 with 1 Axes>"
      ]
     },
     "metadata": {},
     "output_type": "display_data"
    }
   ],
   "source": [
    "# Categórica\n",
    "sns.countplot(x='APGAR1', data=raw_data_tot)\n",
    "plt.title(\"Distribución de la variable objetivo (APGAR1)\")\n",
    "plt.show()\n",
    "\n",
    "# Categórica\n",
    "sns.countplot(x='APGAR2', data=raw_data_tot)\n",
    "plt.title(\"Distribución de la variable objetivo (APGAR2)\")\n",
    "plt.show()"
   ]
  },
  {
   "cell_type": "markdown",
   "metadata": {},
   "source": [
    "### 2.2. Calidad de datos"
   ]
  },
  {
   "cell_type": "markdown",
   "metadata": {},
   "source": [
    "**Consistencia:** hablar de si los tipos de datos encontrados son consistentes con los del diccionario de datos. Los datos deben ser coherentes con las descripciones recibidas.\n",
    "\n",
    "**Unicidad:** Hablar de registros duplicados. Cada registro debe ser único, y la presencia de datos duplicados indica un problema de calidad. \n",
    "\n",
    "**Completitud:** Hablar de valores faltantes. Es importante que toda la información necesaria esté disponible y no haya campos obligatorios vacíos o incompletos.\n",
    "\n",
    "**Validez:** Hablar de valores atípicos. Los datos deben cumplir con las reglas del negocio o estar dentro de rangos válidos.\n",
    "Ejemplo: Si en una columna de edad se encuentran valores negativos o extremadamente altos (como 200 años), estos serían considerados valores atípicos o no válidos."
   ]
  },
  {
   "cell_type": "markdown",
   "metadata": {},
   "source": [
    "#### Registros duplicados:"
   ]
  },
  {
   "cell_type": "code",
   "execution_count": 8,
   "metadata": {},
   "outputs": [
    {
     "name": "stdout",
     "output_type": "stream",
     "text": [
      "Registros duplicados en el conjunto de datos: 23518\n"
     ]
    }
   ],
   "source": [
    "duplicates = raw_data_tot.duplicated(keep = False).sum()\n",
    "print(f'Registros duplicados en el conjunto de datos: {duplicates}')"
   ]
  },
  {
   "cell_type": "markdown",
   "metadata": {},
   "source": [
    "#### Valores faltantes:"
   ]
  },
  {
   "cell_type": "code",
   "execution_count": 13,
   "metadata": {},
   "outputs": [
    {
     "name": "stdout",
     "output_type": "stream",
     "text": [
      "\n",
      "Valores faltantes en el conjunto de datos:\n",
      " COD_DPTO            0\n",
      "COD_MUNIC           0\n",
      "AREANAC             0\n",
      "SIT_PARTO           0\n",
      "OTRO_SIT      2490984\n",
      "SEXO                0\n",
      "PESO_NAC            0\n",
      "TALLA_NAC           0\n",
      "ANO                 0\n",
      "MES                 0\n",
      "T_GES               0\n",
      "NUMCONSUL           0\n",
      "TIPO_PARTO          0\n",
      "MUL_PARTO           0\n",
      "APGAR1              0\n",
      "APGAR2              0\n",
      "IDHEMOCLAS          0\n",
      "IDFACTORRH          0\n",
      "EDAD_MADRE          0\n",
      "EST_CIVM            0\n",
      "NIV_EDUM            0\n",
      "CODPTORE        20586\n",
      "CODMUNRE        20587\n",
      "AREA_RES        20409\n",
      "FECHA_NACM    1152929\n",
      "N_EMB               0\n",
      "SEG_SOCIAL          0\n",
      "dtype: int64\n",
      "\\Porcentaje de valores faltantes en el conjunto de datos:\n",
      " COD_DPTO       0.000000\n",
      "COD_MUNIC      0.000000\n",
      "AREANAC        0.000000\n",
      "SIT_PARTO      0.000000\n",
      "OTRO_SIT      99.784726\n",
      "SEXO           0.000000\n",
      "PESO_NAC       0.000000\n",
      "TALLA_NAC      0.000000\n",
      "ANO            0.000000\n",
      "MES            0.000000\n",
      "T_GES          0.000000\n",
      "NUMCONSUL      0.000000\n",
      "TIPO_PARTO     0.000000\n",
      "MUL_PARTO      0.000000\n",
      "APGAR1         0.000000\n",
      "APGAR2         0.000000\n",
      "IDHEMOCLAS     0.000000\n",
      "IDFACTORRH     0.000000\n",
      "EDAD_MADRE     0.000000\n",
      "EST_CIVM       0.000000\n",
      "NIV_EDUM       0.000000\n",
      "CODPTORE       0.824641\n",
      "CODMUNRE       0.824681\n",
      "AREA_RES       0.817551\n",
      "FECHA_NACM    46.184441\n",
      "N_EMB          0.000000\n",
      "SEG_SOCIAL     0.000000\n",
      "dtype: float64\n"
     ]
    },
    {
     "data": {
      "image/png": "[encoded data removed]",
      "text/plain": [
       "<Figure size 640x480 with 1 Axes>"
      ]
     },
     "metadata": {},
     "output_type": "display_data"
    }
   ],
   "source": [
    "missing_values = raw_data_tot.isnull().sum()\n",
    "print(\"\\nValores faltantes en el conjunto de datos:\\n\", missing_values)\n",
    "\n",
    "# Porcentajes \n",
    "missing_values_p = (missing_values / len(raw_data_tot)) * 100\n",
    "print(\"\\Porcentaje de valores faltantes en el conjunto de datos:\\n\", missing_values_p)\n",
    "\n",
    "# Visualización de los valores faltantes\n",
    "sns.heatmap(raw_data_tot.isnull(), cbar=False, cmap='viridis')\n",
    "plt.title(\"Mapa de calor de los valores faltantes\")\n",
    "plt.show()"
   ]
  },
  {
   "cell_type": "markdown",
   "metadata": {},
   "source": [
    "#### Outliers:"
   ]
  },
  {
   "cell_type": "code",
   "execution_count": 14,
   "metadata": {},
   "outputs": [
    {
     "name": "stdout",
     "output_type": "stream",
     "text": [
      "Número y porcentaje de outliers:\n",
      "NUMCONSUL: 134386 | 5.38%\n",
      "N_EMB: 34556 | 1.38%\n"
     ]
    }
   ],
   "source": [
    "# Porcentaje de outliers\n",
    "features_outliers = []\n",
    "print('Número y porcentaje de outliers:')\n",
    "\n",
    "for column in features_num:\n",
    "    Q1 = raw_data_tot[column].quantile(0.25)\n",
    "    Q3 = raw_data_tot[column].quantile(0.75)\n",
    "    IQR = Q3 - Q1\n",
    "    lower_bound = Q1 - 1.5 * IQR\n",
    "    upper_bound = Q3 + 1.5 * IQR\n",
    "\n",
    "    outliers = raw_data_tot[(raw_data_tot[column] < lower_bound) | (raw_data_tot[column] > upper_bound)]\n",
    "    percentage = (len(outliers) / len(raw_data_tot[column])) * 100\n",
    "    \n",
    "    if percentage > 0:\n",
    "        features_outliers.append(column)\n",
    "        \n",
    "    print(f'{column}: {len(outliers)} | {percentage:.2f}%')"
   ]
  },
  {
   "cell_type": "markdown",
   "metadata": {},
   "source": [
    "## Limpieza de datos"
   ]
  },
  {
   "cell_type": "code",
   "execution_count": 13,
   "metadata": {},
   "outputs": [],
   "source": [
    "clean_data = raw_data_tot.copy()"
   ]
  },
  {
   "cell_type": "code",
   "execution_count": null,
   "metadata": {},
   "outputs": [
    {
     "data": {
      "text/plain": [
       "Index(['COD_DPTO', 'COD_MUNIC', 'SIT_PARTO', 'SEXO', 'PESO_NAC', 'TALLA_NAC',\n",
       "       'ANO', 'T_GES', 'TIPO_PARTO', 'MUL_PARTO', 'APGAR1', 'APGAR2',\n",
       "       'EDAD_MADRE', 'FECHA_NACM', 'N_EMB', 'SEG_SOCIAL'],\n",
       "      dtype='object')"
      ]
     },
     "execution_count": 22,
     "metadata": {},
     "output_type": "execute_result"
    }
   ],
   "source": [
    "clean_data=clean_data.drop_duplicates().drop(columns=['OTRO_SIT','AREANAC','MES', 'NUMCONSUL','IDHEMOCLAS', 'IDFACTORRH',\n",
    "                                'EST_CIVM', 'NIV_EDUM','CODPTORE', 'CODMUNRE', 'AREA_RES'])\n",
    "clean_data.columns"
   ]
  },
  {
   "cell_type": "code",
   "execution_count": null,
   "metadata": {},
   "outputs": [],
   "source": [
    "#datos=clean_data.dropna()"
   ]
  },
  {
   "cell_type": "code",
   "execution_count": 23,
   "metadata": {},
   "outputs": [
    {
     "data": {
      "text/plain": [
       "(2483285, 16)"
      ]
     },
     "execution_count": 23,
     "metadata": {},
     "output_type": "execute_result"
    }
   ],
   "source": [
    "clean_data.shape"
   ]
  },
  {
   "cell_type": "code",
   "execution_count": 24,
   "metadata": {},
   "outputs": [],
   "source": [
    "clean_data.to_csv('Data/nacimientos_clean.csv', index=False, encoding='latin')"
   ]
  },
  {
   "cell_type": "markdown",
   "metadata": {},
   "source": [
    "### Datos mapa"
   ]
  },
  {
   "cell_type": "code",
   "execution_count": 9,
   "metadata": {},
   "outputs": [],
   "source": [
    "import pandas as pd\n",
    "\n",
    "clean_data = pd.read_csv('Data/nacimientos_clean.csv', sep=',', encoding='latin')"
   ]
  },
  {
   "cell_type": "code",
   "execution_count": 10,
   "metadata": {},
   "outputs": [
    {
     "data": {
      "text/plain": [
       "(1122, 4)"
      ]
     },
     "execution_count": 10,
     "metadata": {},
     "output_type": "execute_result"
    }
   ],
   "source": [
    "# Cargar el archivo CSV cods con los tipos de datos correctos para las columnas\n",
    "columnas_str = ['COD_Departamento', 'COD_Municipio']\n",
    "df_codigos = pd.read_csv('Data/cods_dpto_munic.csv', sep=',', encoding='latin', dtype={col: str for col in columnas_str})\n",
    "df_codigos.shape"
   ]
  },
  {
   "cell_type": "code",
   "execution_count": 11,
   "metadata": {},
   "outputs": [],
   "source": [
    "# Asegurarse de que datos tenga las columnas COD_DPTO y COD_MUNIC con ceros a la izquierda\n",
    "clean_data['COD_DPTO'] = clean_data['COD_DPTO'].astype(str).str.zfill(2)\n",
    "clean_data['COD_MUNIC'] = clean_data['COD_MUNIC'].astype(str).str.zfill(3)\n",
    "\n",
    "# Crear una columna concatenada en datos\n",
    "clean_data['COD_COMBINADO'] = clean_data['COD_DPTO'] + clean_data['COD_MUNIC']"
   ]
  },
  {
   "cell_type": "code",
   "execution_count": 13,
   "metadata": {},
   "outputs": [
    {
     "data": {
      "text/plain": [
       "(2483285, 17)"
      ]
     },
     "execution_count": 13,
     "metadata": {},
     "output_type": "execute_result"
    }
   ],
   "source": [
    "# Realizar el merge usando las columnas concatenadas\n",
    "df_resultado = pd.merge(clean_data, df_codigos, left_on='COD_COMBINADO', right_on='COD_Municipio', how='left')\n",
    "\n",
    "# Seleccionar las columnas de interés\n",
    "df_resultado = df_resultado.drop(columns=['COD_Departamento', 'COD_Municipio','COD_DPTO','COD_MUNIC'])\n",
    "\n",
    "# Guardar el resultado si es necesario\n",
    "df_resultado.to_csv('Data/nacimientos_full.csv', index=False)\n",
    "\n",
    "# Ver el resultado\n",
    "df_resultado.shape"
   ]
  },
  {
   "cell_type": "code",
   "execution_count": null,
   "metadata": {},
   "outputs": [],
   "source": []
  }
 ],
 "metadata": {
  "kernelspec": {
   "display_name": "base",
   "language": "python",
   "name": "python3"
  },
  "language_info": {
   "codemirror_mode": {
    "name": "ipython",
    "version": 3
   },
   "file_extension": ".py",
   "mimetype": "text/x-python",
   "name": "python",
   "nbconvert_exporter": "python",
   "pygments_lexer": "ipython3",
   "version": "3.11.4"
  }
 },
 "nbformat": 4,
 "nbformat_minor": 2
}
