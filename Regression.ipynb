{
 "cells": [
  {
   "cell_type": "code",
   "execution_count": 12,
   "metadata": {},
   "outputs": [],
   "source": [
    "import pandas as pd"
   ]
  },
  {
   "cell_type": "code",
   "execution_count": 13,
   "metadata": {},
   "outputs": [
    {
     "name": "stdout",
     "output_type": "stream",
     "text": [
      "   SIT_PARTO  SEXO  PESO_NAC  TALLA_NAC   ANO  MES  T_GES  NUMCONSUL  \\\n",
      "0          1     2         6          5  2017    1      4          8   \n",
      "1          1     1         6          5  2017    1      4          9   \n",
      "2          1     2         5          4  2017    1      4          9   \n",
      "3          1     1         5          5  2017    1      4          5   \n",
      "4          1     2         5          4  2017    1      4          6   \n",
      "\n",
      "   TIPO_PARTO  MUL_PARTO  ...  APGAR2  IDHEMOCLAS  IDFACTORRH  EDAD_MADRE  \\\n",
      "0           1          1  ...      10           3           1           4   \n",
      "1           1          1  ...       9           3           1           4   \n",
      "2           1          1  ...      10           2           1           6   \n",
      "3           1          1  ...       9           3           1           3   \n",
      "4           1          1  ...      10           2           1           2   \n",
      "\n",
      "   EST_CIVM  NIV_EDUM  FECHA_NACM N_EMB  SEG_SOCIAL     Departamento  \n",
      "0         6         7  27/09/2004     2           1       AtlÃ¡ntico  \n",
      "1         1         4  18/09/2013     2           1          BogotÃ¡  \n",
      "2         5         2  03/07/2000     2           2          NariÃ±o  \n",
      "3         1         4  04/12/2012     2           2  Valle del Cauca  \n",
      "4         2         2  21/06/2014     2           2          Cordoba  \n",
      "\n",
      "[5 rows x 21 columns]\n"
     ]
    }
   ],
   "source": [
    "datos = pd.read_csv('Data/nacimientos_clean.csv', encoding = 'latin')\n",
    "print(datos.head())"
   ]
  },
  {
   "cell_type": "code",
   "execution_count": 14,
   "metadata": {},
   "outputs": [
    {
     "data": {
      "text/plain": [
       "Index(['SEXO', 'PESO_NAC', 'TALLA_NAC', 'ANO', 'T_GES', 'MUL_PARTO', 'APGAR1',\n",
       "       'APGAR2', 'EDAD_MADRE'],\n",
       "      dtype='object')"
      ]
     },
     "execution_count": 14,
     "metadata": {},
     "output_type": "execute_result"
    }
   ],
   "source": [
    "# dejar  'SEXO', 'PESO_NAC', 'TALLA_NAC', 'ANO', 'T_GES', 'MUL_PARTO', 'APGAR1', 'APGAR2', 'EDAD_MADRE'\n",
    "\n",
    "datos= datos.drop(columns=['TIPO_PARTO', 'SIT_PARTO',  \n",
    "        'MES', 'NUMCONSUL','IDHEMOCLAS', 'IDFACTORRH', 'EST_CIVM', 'NIV_EDUM',\n",
    "        'FECHA_NACM', 'N_EMB', 'SEG_SOCIAL', 'Departamento'])\n",
    "datos.columns"
   ]
  },
  {
   "cell_type": "code",
   "execution_count": 15,
   "metadata": {},
   "outputs": [
    {
     "name": "stdout",
     "output_type": "stream",
     "text": [
      "Model summary:\n",
      "                            OLS Regression Results                            \n",
      "==============================================================================\n",
      "Dep. Variable:                 APGAR1   R-squared:                       0.040\n",
      "Model:                            OLS   Adj. R-squared:                  0.040\n",
      "Method:                 Least Squares   F-statistic:                     7449.\n",
      "Date:                Fri, 08 Nov 2024   Prob (F-statistic):               0.00\n",
      "Time:                        13:04:20   Log-Likelihood:            -1.6496e+06\n",
      "No. Observations:             1264233   AIC:                         3.299e+06\n",
      "Df Residuals:                 1264225   BIC:                         3.299e+06\n",
      "Df Model:                           7                                         \n",
      "Covariance Type:            nonrobust                                         \n",
      "==============================================================================\n",
      "                 coef    std err          t      P>|t|      [0.025      0.975]\n",
      "------------------------------------------------------------------------------\n",
      "const        -90.6839      0.783   -115.790      0.000     -92.219     -89.149\n",
      "SEXO           0.0492      0.002     30.773      0.000       0.046       0.052\n",
      "PESO_NAC       0.0996      0.001     99.660      0.000       0.098       0.102\n",
      "TALLA_NAC      0.0137      0.002      7.289      0.000       0.010       0.017\n",
      "ANO            0.0485      0.000    125.063      0.000       0.048       0.049\n",
      "T_GES          0.1454      0.002     68.057      0.000       0.141       0.150\n",
      "MUL_PARTO     -0.1268      0.006    -20.671      0.000      -0.139      -0.115\n",
      "EDAD_MADRE    -0.0052      0.001     -8.179      0.000      -0.007      -0.004\n",
      "==============================================================================\n",
      "Omnibus:                   554464.635   Durbin-Watson:                   1.761\n",
      "Prob(Omnibus):                  0.000   Jarque-Bera (JB):          5918951.679\n",
      "Skew:                          -1.829   Prob(JB):                         0.00\n",
      "Kurtosis:                      12.949   Cond. No.                     1.99e+06\n",
      "==============================================================================\n",
      "\n",
      "Notes:\n",
      "[1] Standard Errors assume that the covariance matrix of the errors is correctly specified.\n",
      "[2] The condition number is large, 1.99e+06. This might indicate that there are\n",
      "strong multicollinearity or other numerical problems.\n"
     ]
    }
   ],
   "source": [
    "import statsmodels.api as sm\n",
    "\n",
    "\n",
    "X = datos[['SEXO', 'PESO_NAC', 'TALLA_NAC', 'ANO', 'T_GES', 'MUL_PARTO', 'EDAD_MADRE']]\n",
    "y = datos['APGAR1']\n",
    "\n",
    "X = sm.add_constant(X)\n",
    "\n",
    "model = sm.OLS(y, X).fit()\n",
    "\n",
    "results_df = pd.DataFrame({\n",
    "    'Variable': X.columns,\n",
    "    'Coefficient': model.params,\n",
    "    'P-value': model.pvalues\n",
    "})\n",
    "\n",
    "results_df.to_csv('Data/resultados_regresion_APGAR1.csv', index=False)\n",
    "\n",
    "print(\"Model summary:\")\n",
    "print(model.summary())\n"
   ]
  },
  {
   "cell_type": "code",
   "execution_count": 17,
   "metadata": {},
   "outputs": [
    {
     "name": "stdout",
     "output_type": "stream",
     "text": [
      "Model summary:\n",
      "                            OLS Regression Results                            \n",
      "==============================================================================\n",
      "Dep. Variable:                 APGAR2   R-squared:                       0.054\n",
      "Model:                            OLS   Adj. R-squared:                  0.054\n",
      "Method:                 Least Squares   F-statistic:                 1.030e+04\n",
      "Date:                Fri, 08 Nov 2024   Prob (F-statistic):               0.00\n",
      "Time:                        13:05:57   Log-Likelihood:            -1.3812e+06\n",
      "No. Observations:             1264233   AIC:                         2.762e+06\n",
      "Df Residuals:                 1264225   BIC:                         2.762e+06\n",
      "Df Model:                           7                                         \n",
      "Covariance Type:            nonrobust                                         \n",
      "==============================================================================\n",
      "                 coef    std err          t      P>|t|      [0.025      0.975]\n",
      "------------------------------------------------------------------------------\n",
      "const         55.6053      0.633     87.792      0.000      54.364      56.847\n",
      "SEXO           0.0389      0.001     30.086      0.000       0.036       0.041\n",
      "PESO_NAC       0.1067      0.001    132.027      0.000       0.105       0.108\n",
      "TALLA_NAC      0.0036      0.002      2.373      0.018       0.001       0.007\n",
      "ANO           -0.0234      0.000    -74.704      0.000      -0.024      -0.023\n",
      "T_GES          0.1571      0.002     90.938      0.000       0.154       0.160\n",
      "MUL_PARTO     -0.1292      0.005    -26.043      0.000      -0.139      -0.119\n",
      "EDAD_MADRE    -0.0133      0.001    -25.587      0.000      -0.014      -0.012\n",
      "==============================================================================\n",
      "Omnibus:                   788671.322   Durbin-Watson:                   1.864\n",
      "Prob(Omnibus):                  0.000   Jarque-Bera (JB):         18699032.839\n",
      "Skew:                          -2.603   Prob(JB):                         0.00\n",
      "Kurtosis:                      21.107   Cond. No.                     1.99e+06\n",
      "==============================================================================\n",
      "\n",
      "Notes:\n",
      "[1] Standard Errors assume that the covariance matrix of the errors is correctly specified.\n",
      "[2] The condition number is large, 1.99e+06. This might indicate that there are\n",
      "strong multicollinearity or other numerical problems.\n"
     ]
    }
   ],
   "source": [
    "import statsmodels.api as sm\n",
    "\n",
    "\n",
    "X2 = datos[['SEXO', 'PESO_NAC', 'TALLA_NAC', 'ANO', 'T_GES', 'MUL_PARTO', 'EDAD_MADRE']]\n",
    "y2 = datos['APGAR2']\n",
    "\n",
    "X2 = sm.add_constant(X2)\n",
    "\n",
    "model2 = sm.OLS(y2, X2).fit()\n",
    "\n",
    "results_df2 = pd.DataFrame({\n",
    "    'Variable': X2.columns,\n",
    "    'Coefficient': model2.params,\n",
    "    'P-value': model2.pvalues\n",
    "})\n",
    "\n",
    "results_df2.to_csv('Data/resultados_regresion_APGAR2.csv', index=False)\n",
    "\n",
    "print(\"Model summary:\")\n",
    "print(model2.summary())\n"
   ]
  }
 ],
 "metadata": {
  "kernelspec": {
   "display_name": "base",
   "language": "python",
   "name": "python3"
  },
  "language_info": {
   "codemirror_mode": {
    "name": "ipython",
    "version": 3
   },
   "file_extension": ".py",
   "mimetype": "text/x-python",
   "name": "python",
   "nbconvert_exporter": "python",
   "pygments_lexer": "ipython3",
   "version": "3.11.4"
  }
 },
 "nbformat": 4,
 "nbformat_minor": 2
}
